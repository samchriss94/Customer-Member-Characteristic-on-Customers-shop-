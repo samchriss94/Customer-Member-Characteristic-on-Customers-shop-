{
 "cells": [
  {
   "cell_type": "markdown",
   "metadata": {},
   "source": [
    "# 1-Introduction"
   ]
  },
  {
   "cell_type": "markdown",
   "metadata": {},
   "source": [
    "Milestone 1\n",
    "\n",
    "Nama: Samuel Christian S\n",
    "\n",
    "Batch : SBY-001\n",
    "\n",
    "Objective : Penelitian ini di buat untuk memahami karakteristik pelanggan suatu toko, sehingga dapat menciptakan pemasaran yg efektif dan merencanakan strategi yang sesuai. Data di dapatkan dari membership toko.\n",
    "\n",
    "Link Tableau : https://public.tableau.com/app/profile/samuel.christian4385/viz/Milestone1_16952974753520/Story1?publish=yes"
   ]
  },
  {
   "cell_type": "markdown",
   "metadata": {},
   "source": [
    "# 2-Identifikasi Masalah"
   ]
  },
  {
   "cell_type": "markdown",
   "metadata": {},
   "source": [
    "## 2.1-Penjabaran problem statement dengan metode SMART\n",
    "\n",
    "1. Specific (Spesifik):\n",
    "meningkatkan pendapatan toko dengan memahami karakteristik pelanggan, preferensi, perilaku berbelanja, dan   berfokus pada merancang pemasaran yang efektif dan strategi yang sesuai.\n",
    "\n",
    "2. Measurable (Mengukur):\n",
    "mencapai peningkatan sebesar 30% dengan menerapkan strategi pemasaran yang efektif.\n",
    "\n",
    "3. Achievable (Dapat Dicapai):\n",
    "Peningkatan pendapatan dapat dicapai dengan adanya strategi pemasaran yang tepat dan terukur sehingga toko/tim pemasaran dapat memenuhi kebutuhan pelanggan dengan mengetahui karakteristik pelanggannya.\n",
    "\n",
    "4. Relevant (Relevan):\n",
    "Memahami karakteristik pelanggan dapat membantu untuk mengarahkan upaya pemasaran menjadi lebih baik, mengidentifikasi peluang bisnis, dan meningkatkan pengalaman pelanggan secara keseluruhan.\n",
    "\n",
    "5. Time-bound (Terbatas Waktu):\n",
    "toko/tim pemasaran akan menargetkan peningkatan pendapatan dalam kurun waktu 6 bulan setelah strategi pemasaran diterapkan."
   ]
  },
  {
   "cell_type": "markdown",
   "metadata": {},
   "source": [
    "## 2.2-Problem statement\n",
    "\n",
    "Meningkatkan pendapatan sebesar 30% dengan berfokus pada strategi pemasaran yang sesuai dan efektif yang mengacu pada karakteristik pelanggan untuk mengidentifikasi peluang bisnis dalam kurun waktu 6 bulan"
   ]
  },
  {
   "cell_type": "markdown",
   "metadata": {},
   "source": [
    "## 2.3- Metric Implementation\n",
    "\n",
    "Dalam kasus ini dapat dirumuskan penggunaan metric sebagai berikut:\n",
    "\n",
    "1. Return of Invesment : \n",
    "Dipergunakan untuk mengukur kemungkinan seberapa besar keuntungan yang di dapat dari investasi atau modal yang sudah digunakan.\n",
    "\n",
    "2. Operational Cost :\n",
    "untuk menghitung biaya-biaya apa saja yang dikeluarkan sebagai biaya rutin dari ivestasi yang dilakukan.\n"
   ]
  },
  {
   "cell_type": "markdown",
   "metadata": {},
   "source": [
    "## 2.4-Defining the problem:\n",
    "\n",
    "1. Apa profesi yang paling banyak menjadi customer?\n",
    "\n",
    "2. Apa gender yang paling banyak menjadi customer?\n",
    "\n",
    "3. Range gaji untuk spending score tertinggi\n",
    "\n",
    "4. Profesi apa yang memiliki rata rata spending score tertinggi\n",
    "\n",
    "5. Apakah range gaji berpengaruh dengan spending Score?\n",
    " \n",
    "6. Apakah family size berpengaruh terhadap spending score?\n",
    "\n",
    "7. Distribusi data Annual income (statistik deksriptif) \n",
    "\n",
    "8. Apakah spanding score profesi Artist sama dengan profesi Health Care (statistics inferential)"
   ]
  },
  {
   "cell_type": "markdown",
   "metadata": {},
   "source": [
    "# 3-Data Loading"
   ]
  },
  {
   "cell_type": "code",
   "execution_count": 3,
   "metadata": {},
   "outputs": [],
   "source": [
    "# import data yang di perlukan\n",
    "import pandas as pd\n",
    "import numpy as np\n",
    "from bs4 import BeautifulSoup\n",
    "import requests\n",
    "import time\n",
    "from scipy import stats\n",
    "import seaborn as sns\n",
    "import matplotlib.pyplot as plt"
   ]
  },
  {
   "cell_type": "markdown",
   "metadata": {},
   "source": [
    "data customer.csv di download dari https://www.kaggle.com/datasets/datascientistanna/customers-dataset"
   ]
  },
  {
   "cell_type": "code",
   "execution_count": 12,
   "metadata": {},
   "outputs": [
    {
     "data": {
      "text/html": [
       "<div>\n",
       "<style scoped>\n",
       "    .dataframe tbody tr th:only-of-type {\n",
       "        vertical-align: middle;\n",
       "    }\n",
       "\n",
       "    .dataframe tbody tr th {\n",
       "        vertical-align: top;\n",
       "    }\n",
       "\n",
       "    .dataframe thead th {\n",
       "        text-align: right;\n",
       "    }\n",
       "</style>\n",
       "<table border=\"1\" class=\"dataframe\">\n",
       "  <thead>\n",
       "    <tr style=\"text-align: right;\">\n",
       "      <th></th>\n",
       "      <th>CustomerID</th>\n",
       "      <th>Gender</th>\n",
       "      <th>Age</th>\n",
       "      <th>Annual Income ($)</th>\n",
       "      <th>Spending Score (1-100)</th>\n",
       "      <th>Profession</th>\n",
       "      <th>Work Experience</th>\n",
       "      <th>Family Size</th>\n",
       "    </tr>\n",
       "  </thead>\n",
       "  <tbody>\n",
       "    <tr>\n",
       "      <th>0</th>\n",
       "      <td>1</td>\n",
       "      <td>Male</td>\n",
       "      <td>19</td>\n",
       "      <td>15000</td>\n",
       "      <td>39</td>\n",
       "      <td>Healthcare</td>\n",
       "      <td>1</td>\n",
       "      <td>4</td>\n",
       "    </tr>\n",
       "    <tr>\n",
       "      <th>1</th>\n",
       "      <td>2</td>\n",
       "      <td>Male</td>\n",
       "      <td>21</td>\n",
       "      <td>35000</td>\n",
       "      <td>81</td>\n",
       "      <td>Engineer</td>\n",
       "      <td>3</td>\n",
       "      <td>3</td>\n",
       "    </tr>\n",
       "    <tr>\n",
       "      <th>2</th>\n",
       "      <td>3</td>\n",
       "      <td>Female</td>\n",
       "      <td>20</td>\n",
       "      <td>86000</td>\n",
       "      <td>6</td>\n",
       "      <td>Engineer</td>\n",
       "      <td>1</td>\n",
       "      <td>1</td>\n",
       "    </tr>\n",
       "    <tr>\n",
       "      <th>3</th>\n",
       "      <td>4</td>\n",
       "      <td>Female</td>\n",
       "      <td>23</td>\n",
       "      <td>59000</td>\n",
       "      <td>77</td>\n",
       "      <td>Lawyer</td>\n",
       "      <td>0</td>\n",
       "      <td>2</td>\n",
       "    </tr>\n",
       "    <tr>\n",
       "      <th>4</th>\n",
       "      <td>5</td>\n",
       "      <td>Female</td>\n",
       "      <td>31</td>\n",
       "      <td>38000</td>\n",
       "      <td>40</td>\n",
       "      <td>Entertainment</td>\n",
       "      <td>2</td>\n",
       "      <td>6</td>\n",
       "    </tr>\n",
       "    <tr>\n",
       "      <th>...</th>\n",
       "      <td>...</td>\n",
       "      <td>...</td>\n",
       "      <td>...</td>\n",
       "      <td>...</td>\n",
       "      <td>...</td>\n",
       "      <td>...</td>\n",
       "      <td>...</td>\n",
       "      <td>...</td>\n",
       "    </tr>\n",
       "    <tr>\n",
       "      <th>1995</th>\n",
       "      <td>1996</td>\n",
       "      <td>Female</td>\n",
       "      <td>71</td>\n",
       "      <td>184387</td>\n",
       "      <td>40</td>\n",
       "      <td>Artist</td>\n",
       "      <td>8</td>\n",
       "      <td>7</td>\n",
       "    </tr>\n",
       "    <tr>\n",
       "      <th>1996</th>\n",
       "      <td>1997</td>\n",
       "      <td>Female</td>\n",
       "      <td>91</td>\n",
       "      <td>73158</td>\n",
       "      <td>32</td>\n",
       "      <td>Doctor</td>\n",
       "      <td>7</td>\n",
       "      <td>7</td>\n",
       "    </tr>\n",
       "    <tr>\n",
       "      <th>1997</th>\n",
       "      <td>1998</td>\n",
       "      <td>Male</td>\n",
       "      <td>87</td>\n",
       "      <td>90961</td>\n",
       "      <td>14</td>\n",
       "      <td>Healthcare</td>\n",
       "      <td>9</td>\n",
       "      <td>2</td>\n",
       "    </tr>\n",
       "    <tr>\n",
       "      <th>1998</th>\n",
       "      <td>1999</td>\n",
       "      <td>Male</td>\n",
       "      <td>77</td>\n",
       "      <td>182109</td>\n",
       "      <td>4</td>\n",
       "      <td>Executive</td>\n",
       "      <td>7</td>\n",
       "      <td>2</td>\n",
       "    </tr>\n",
       "    <tr>\n",
       "      <th>1999</th>\n",
       "      <td>2000</td>\n",
       "      <td>Male</td>\n",
       "      <td>90</td>\n",
       "      <td>110610</td>\n",
       "      <td>52</td>\n",
       "      <td>Entertainment</td>\n",
       "      <td>5</td>\n",
       "      <td>2</td>\n",
       "    </tr>\n",
       "  </tbody>\n",
       "</table>\n",
       "<p>2000 rows × 8 columns</p>\n",
       "</div>"
      ],
      "text/plain": [
       "      CustomerID  Gender  Age  Annual Income ($)  Spending Score (1-100)  \\\n",
       "0              1    Male   19              15000                      39   \n",
       "1              2    Male   21              35000                      81   \n",
       "2              3  Female   20              86000                       6   \n",
       "3              4  Female   23              59000                      77   \n",
       "4              5  Female   31              38000                      40   \n",
       "...          ...     ...  ...                ...                     ...   \n",
       "1995        1996  Female   71             184387                      40   \n",
       "1996        1997  Female   91              73158                      32   \n",
       "1997        1998    Male   87              90961                      14   \n",
       "1998        1999    Male   77             182109                       4   \n",
       "1999        2000    Male   90             110610                      52   \n",
       "\n",
       "         Profession  Work Experience  Family Size  \n",
       "0        Healthcare                1            4  \n",
       "1          Engineer                3            3  \n",
       "2          Engineer                1            1  \n",
       "3            Lawyer                0            2  \n",
       "4     Entertainment                2            6  \n",
       "...             ...              ...          ...  \n",
       "1995         Artist                8            7  \n",
       "1996         Doctor                7            7  \n",
       "1997     Healthcare                9            2  \n",
       "1998      Executive                7            2  \n",
       "1999  Entertainment                5            2  \n",
       "\n",
       "[2000 rows x 8 columns]"
      ]
     },
     "execution_count": 12,
     "metadata": {},
     "output_type": "execute_result"
    }
   ],
   "source": [
    "# loading data dari file csv\n",
    "df = pd.read_csv('customers.csv')\n",
    "df\n"
   ]
  },
  {
   "cell_type": "code",
   "execution_count": 42,
   "metadata": {},
   "outputs": [
    {
     "name": "stdout",
     "output_type": "stream",
     "text": [
      "<class 'pandas.core.frame.DataFrame'>\n",
      "RangeIndex: 2000 entries, 0 to 1999\n",
      "Data columns (total 8 columns):\n",
      " #   Column                  Non-Null Count  Dtype \n",
      "---  ------                  --------------  ----- \n",
      " 0   CustomerID              2000 non-null   int64 \n",
      " 1   Gender                  2000 non-null   object\n",
      " 2   Age                     2000 non-null   int64 \n",
      " 3   Annual Income ($)       2000 non-null   int64 \n",
      " 4   Spending Score (1-100)  2000 non-null   int64 \n",
      " 5   Profession              1965 non-null   object\n",
      " 6   Work Experience         2000 non-null   int64 \n",
      " 7   Family Size             2000 non-null   int64 \n",
      "dtypes: int64(6), object(2)\n",
      "memory usage: 125.1+ KB\n"
     ]
    }
   ],
   "source": [
    "df.info()"
   ]
  },
  {
   "cell_type": "markdown",
   "metadata": {},
   "source": [
    "dari data di atas terlihat bahwa dari 2000 data semuanya berhasil ter load tetapi ada beberapa yang missing."
   ]
  },
  {
   "cell_type": "markdown",
   "metadata": {},
   "source": [
    "# 4-Data Cleaning"
   ]
  },
  {
   "cell_type": "code",
   "execution_count": 43,
   "metadata": {},
   "outputs": [
    {
     "data": {
      "text/html": [
       "<div>\n",
       "<style scoped>\n",
       "    .dataframe tbody tr th:only-of-type {\n",
       "        vertical-align: middle;\n",
       "    }\n",
       "\n",
       "    .dataframe tbody tr th {\n",
       "        vertical-align: top;\n",
       "    }\n",
       "\n",
       "    .dataframe thead th {\n",
       "        text-align: right;\n",
       "    }\n",
       "</style>\n",
       "<table border=\"1\" class=\"dataframe\">\n",
       "  <thead>\n",
       "    <tr style=\"text-align: right;\">\n",
       "      <th></th>\n",
       "      <th>CustomerID</th>\n",
       "      <th>Gender</th>\n",
       "      <th>Age</th>\n",
       "      <th>Annual Income ($)</th>\n",
       "      <th>Spending Score (1-100)</th>\n",
       "      <th>Profession</th>\n",
       "      <th>Work Experience</th>\n",
       "      <th>Family Size</th>\n",
       "    </tr>\n",
       "  </thead>\n",
       "  <tbody>\n",
       "    <tr>\n",
       "      <th>0</th>\n",
       "      <td>1</td>\n",
       "      <td>Male</td>\n",
       "      <td>19</td>\n",
       "      <td>15000</td>\n",
       "      <td>39</td>\n",
       "      <td>Healthcare</td>\n",
       "      <td>1</td>\n",
       "      <td>4</td>\n",
       "    </tr>\n",
       "    <tr>\n",
       "      <th>1</th>\n",
       "      <td>2</td>\n",
       "      <td>Male</td>\n",
       "      <td>21</td>\n",
       "      <td>35000</td>\n",
       "      <td>81</td>\n",
       "      <td>Engineer</td>\n",
       "      <td>3</td>\n",
       "      <td>3</td>\n",
       "    </tr>\n",
       "    <tr>\n",
       "      <th>2</th>\n",
       "      <td>3</td>\n",
       "      <td>Female</td>\n",
       "      <td>20</td>\n",
       "      <td>86000</td>\n",
       "      <td>6</td>\n",
       "      <td>Engineer</td>\n",
       "      <td>1</td>\n",
       "      <td>1</td>\n",
       "    </tr>\n",
       "    <tr>\n",
       "      <th>3</th>\n",
       "      <td>4</td>\n",
       "      <td>Female</td>\n",
       "      <td>23</td>\n",
       "      <td>59000</td>\n",
       "      <td>77</td>\n",
       "      <td>Lawyer</td>\n",
       "      <td>0</td>\n",
       "      <td>2</td>\n",
       "    </tr>\n",
       "    <tr>\n",
       "      <th>4</th>\n",
       "      <td>5</td>\n",
       "      <td>Female</td>\n",
       "      <td>31</td>\n",
       "      <td>38000</td>\n",
       "      <td>40</td>\n",
       "      <td>Entertainment</td>\n",
       "      <td>2</td>\n",
       "      <td>6</td>\n",
       "    </tr>\n",
       "  </tbody>\n",
       "</table>\n",
       "</div>"
      ],
      "text/plain": [
       "   CustomerID  Gender  Age  Annual Income ($)  Spending Score (1-100)  \\\n",
       "0           1    Male   19              15000                      39   \n",
       "1           2    Male   21              35000                      81   \n",
       "2           3  Female   20              86000                       6   \n",
       "3           4  Female   23              59000                      77   \n",
       "4           5  Female   31              38000                      40   \n",
       "\n",
       "      Profession  Work Experience  Family Size  \n",
       "0     Healthcare                1            4  \n",
       "1       Engineer                3            3  \n",
       "2       Engineer                1            1  \n",
       "3         Lawyer                0            2  \n",
       "4  Entertainment                2            6  "
      ]
     },
     "execution_count": 43,
     "metadata": {},
     "output_type": "execute_result"
    }
   ],
   "source": [
    "df.head()"
   ]
  },
  {
   "cell_type": "markdown",
   "metadata": {},
   "source": [
    "berikut adalah 5 data teratas dari data customers yang didapatkan melalui data membership toko. dapat dilihat customers cukup bervariasi dari segi usia, pendapatan, dan pekerjaannya. begitu pula dengan spending scorenya."
   ]
  },
  {
   "cell_type": "code",
   "execution_count": 44,
   "metadata": {},
   "outputs": [
    {
     "data": {
      "text/html": [
       "<div>\n",
       "<style scoped>\n",
       "    .dataframe tbody tr th:only-of-type {\n",
       "        vertical-align: middle;\n",
       "    }\n",
       "\n",
       "    .dataframe tbody tr th {\n",
       "        vertical-align: top;\n",
       "    }\n",
       "\n",
       "    .dataframe thead th {\n",
       "        text-align: right;\n",
       "    }\n",
       "</style>\n",
       "<table border=\"1\" class=\"dataframe\">\n",
       "  <thead>\n",
       "    <tr style=\"text-align: right;\">\n",
       "      <th></th>\n",
       "      <th>CustomerID</th>\n",
       "      <th>Age</th>\n",
       "      <th>Annual Income ($)</th>\n",
       "      <th>Spending Score (1-100)</th>\n",
       "      <th>Work Experience</th>\n",
       "      <th>Family Size</th>\n",
       "    </tr>\n",
       "  </thead>\n",
       "  <tbody>\n",
       "    <tr>\n",
       "      <th>count</th>\n",
       "      <td>2000.000000</td>\n",
       "      <td>2000.000000</td>\n",
       "      <td>2000.000000</td>\n",
       "      <td>2000.000000</td>\n",
       "      <td>2000.000000</td>\n",
       "      <td>2000.000000</td>\n",
       "    </tr>\n",
       "    <tr>\n",
       "      <th>mean</th>\n",
       "      <td>1000.500000</td>\n",
       "      <td>48.960000</td>\n",
       "      <td>110731.821500</td>\n",
       "      <td>50.962500</td>\n",
       "      <td>4.102500</td>\n",
       "      <td>3.768500</td>\n",
       "    </tr>\n",
       "    <tr>\n",
       "      <th>std</th>\n",
       "      <td>577.494589</td>\n",
       "      <td>28.429747</td>\n",
       "      <td>45739.536688</td>\n",
       "      <td>27.934661</td>\n",
       "      <td>3.922204</td>\n",
       "      <td>1.970749</td>\n",
       "    </tr>\n",
       "    <tr>\n",
       "      <th>min</th>\n",
       "      <td>1.000000</td>\n",
       "      <td>0.000000</td>\n",
       "      <td>0.000000</td>\n",
       "      <td>0.000000</td>\n",
       "      <td>0.000000</td>\n",
       "      <td>1.000000</td>\n",
       "    </tr>\n",
       "    <tr>\n",
       "      <th>25%</th>\n",
       "      <td>500.750000</td>\n",
       "      <td>25.000000</td>\n",
       "      <td>74572.000000</td>\n",
       "      <td>28.000000</td>\n",
       "      <td>1.000000</td>\n",
       "      <td>2.000000</td>\n",
       "    </tr>\n",
       "    <tr>\n",
       "      <th>50%</th>\n",
       "      <td>1000.500000</td>\n",
       "      <td>48.000000</td>\n",
       "      <td>110045.000000</td>\n",
       "      <td>50.000000</td>\n",
       "      <td>3.000000</td>\n",
       "      <td>4.000000</td>\n",
       "    </tr>\n",
       "    <tr>\n",
       "      <th>75%</th>\n",
       "      <td>1500.250000</td>\n",
       "      <td>73.000000</td>\n",
       "      <td>149092.750000</td>\n",
       "      <td>75.000000</td>\n",
       "      <td>7.000000</td>\n",
       "      <td>5.000000</td>\n",
       "    </tr>\n",
       "    <tr>\n",
       "      <th>max</th>\n",
       "      <td>2000.000000</td>\n",
       "      <td>99.000000</td>\n",
       "      <td>189974.000000</td>\n",
       "      <td>100.000000</td>\n",
       "      <td>17.000000</td>\n",
       "      <td>9.000000</td>\n",
       "    </tr>\n",
       "  </tbody>\n",
       "</table>\n",
       "</div>"
      ],
      "text/plain": [
       "        CustomerID          Age  Annual Income ($)  Spending Score (1-100)  \\\n",
       "count  2000.000000  2000.000000        2000.000000             2000.000000   \n",
       "mean   1000.500000    48.960000      110731.821500               50.962500   \n",
       "std     577.494589    28.429747       45739.536688               27.934661   \n",
       "min       1.000000     0.000000           0.000000                0.000000   \n",
       "25%     500.750000    25.000000       74572.000000               28.000000   \n",
       "50%    1000.500000    48.000000      110045.000000               50.000000   \n",
       "75%    1500.250000    73.000000      149092.750000               75.000000   \n",
       "max    2000.000000    99.000000      189974.000000              100.000000   \n",
       "\n",
       "       Work Experience  Family Size  \n",
       "count      2000.000000  2000.000000  \n",
       "mean          4.102500     3.768500  \n",
       "std           3.922204     1.970749  \n",
       "min           0.000000     1.000000  \n",
       "25%           1.000000     2.000000  \n",
       "50%           3.000000     4.000000  \n",
       "75%           7.000000     5.000000  \n",
       "max          17.000000     9.000000  "
      ]
     },
     "execution_count": 44,
     "metadata": {},
     "output_type": "execute_result"
    }
   ],
   "source": [
    "df.describe()"
   ]
  },
  {
   "cell_type": "code",
   "execution_count": 45,
   "metadata": {},
   "outputs": [
    {
     "name": "stdout",
     "output_type": "stream",
     "text": [
      "<class 'pandas.core.frame.DataFrame'>\n",
      "RangeIndex: 2000 entries, 0 to 1999\n",
      "Data columns (total 8 columns):\n",
      " #   Column                  Non-Null Count  Dtype \n",
      "---  ------                  --------------  ----- \n",
      " 0   CustomerID              2000 non-null   int64 \n",
      " 1   Gender                  2000 non-null   object\n",
      " 2   Age                     2000 non-null   int64 \n",
      " 3   Annual Income ($)       2000 non-null   int64 \n",
      " 4   Spending Score (1-100)  2000 non-null   int64 \n",
      " 5   Profession              1965 non-null   object\n",
      " 6   Work Experience         2000 non-null   int64 \n",
      " 7   Family Size             2000 non-null   int64 \n",
      "dtypes: int64(6), object(2)\n",
      "memory usage: 125.1+ KB\n"
     ]
    }
   ],
   "source": [
    "df.info()"
   ]
  },
  {
   "cell_type": "markdown",
   "metadata": {},
   "source": [
    "dari data di atas terlihat adanya missing value pada kolom Proffession. begitu pula pada kolom Annual income dtypenya kurang sesuai yaitu int yang seharusnya float."
   ]
  },
  {
   "cell_type": "markdown",
   "metadata": {},
   "source": [
    "## 4.1-Cleaning Missing Values"
   ]
  },
  {
   "cell_type": "code",
   "execution_count": 47,
   "metadata": {},
   "outputs": [
    {
     "data": {
      "text/plain": [
       "CustomerID                 0\n",
       "Gender                     0\n",
       "Age                        0\n",
       "Annual Income ($)          0\n",
       "Spending Score (1-100)     0\n",
       "Profession                35\n",
       "Work Experience            0\n",
       "Family Size                0\n",
       "dtype: int64"
      ]
     },
     "execution_count": 47,
     "metadata": {},
     "output_type": "execute_result"
    }
   ],
   "source": [
    "df.isnull().sum()"
   ]
  },
  {
   "cell_type": "markdown",
   "metadata": {},
   "source": [
    "dari data di atas terlihat ada missing value sebanyak 35 dari 2000 data pada kolom profesi"
   ]
  },
  {
   "cell_type": "markdown",
   "metadata": {},
   "source": [
    "### 4.1.1-Menghilangkan missing value"
   ]
  },
  {
   "cell_type": "markdown",
   "metadata": {},
   "source": [
    "untuk mengghilangkan missing value ada 2 cara yaitu dengan mengganti value yang hilang menjadi unknown atau membuang row data yang ada missing valuenya. untuk permasalahan kali ini data yang ada missing valuenya akan di buang."
   ]
  },
  {
   "cell_type": "code",
   "execution_count": 53,
   "metadata": {},
   "outputs": [
    {
     "name": "stdout",
     "output_type": "stream",
     "text": [
      "<class 'pandas.core.frame.DataFrame'>\n",
      "Int64Index: 1965 entries, 0 to 1999\n",
      "Data columns (total 8 columns):\n",
      " #   Column                  Non-Null Count  Dtype \n",
      "---  ------                  --------------  ----- \n",
      " 0   CustomerID              1965 non-null   int64 \n",
      " 1   Gender                  1965 non-null   object\n",
      " 2   Age                     1965 non-null   int64 \n",
      " 3   Annual Income ($)       1965 non-null   int64 \n",
      " 4   Spending Score (1-100)  1965 non-null   int64 \n",
      " 5   Profession              1965 non-null   object\n",
      " 6   Work Experience         1965 non-null   int64 \n",
      " 7   Family Size             1965 non-null   int64 \n",
      "dtypes: int64(6), object(2)\n",
      "memory usage: 138.2+ KB\n"
     ]
    }
   ],
   "source": [
    "df.dropna(subset=['Profession'], inplace=True)\n",
    "df.info()"
   ]
  },
  {
   "cell_type": "markdown",
   "metadata": {},
   "source": [
    "setelah di lakukan pembuanggan data yang ada missing valuenya pada kolom proddesion dapat dilihat entry data yang semula 2000 data menjadi 1965 data. dan missing value sudah di buang."
   ]
  },
  {
   "cell_type": "markdown",
   "metadata": {},
   "source": [
    "### 4.1.2-Data Type Change"
   ]
  },
  {
   "cell_type": "code",
   "execution_count": 58,
   "metadata": {},
   "outputs": [
    {
     "name": "stdout",
     "output_type": "stream",
     "text": [
      "<class 'pandas.core.frame.DataFrame'>\n",
      "Int64Index: 1965 entries, 0 to 1999\n",
      "Data columns (total 8 columns):\n",
      " #   Column                  Non-Null Count  Dtype  \n",
      "---  ------                  --------------  -----  \n",
      " 0   CustomerID              1965 non-null   int64  \n",
      " 1   Gender                  1965 non-null   object \n",
      " 2   Age                     1965 non-null   int64  \n",
      " 3   Annual Income ($)       1965 non-null   float64\n",
      " 4   Spending Score (1-100)  1965 non-null   int64  \n",
      " 5   Profession              1965 non-null   object \n",
      " 6   Work Experience         1965 non-null   int64  \n",
      " 7   Family Size             1965 non-null   int64  \n",
      "dtypes: float64(1), int64(5), object(2)\n",
      "memory usage: 138.2+ KB\n"
     ]
    }
   ],
   "source": [
    "df['Annual Income ($)'] = df['Annual Income ($)'].astype(float)\n",
    "df.info()"
   ]
  },
  {
   "cell_type": "markdown",
   "metadata": {},
   "source": [
    "dari data di atas terlihat type data pada kolom annual income yang sebelumnya integer sudah di ganti menjadi Float"
   ]
  },
  {
   "cell_type": "markdown",
   "metadata": {},
   "source": [
    "## 4.3- Save Data"
   ]
  },
  {
   "cell_type": "code",
   "execution_count": 59,
   "metadata": {},
   "outputs": [],
   "source": [
    "#save data baru yang sudah di olah (setelah di cleaning)\n",
    "df.to_csv(('customers_baru.csv'), index=False)"
   ]
  },
  {
   "cell_type": "markdown",
   "metadata": {},
   "source": [
    "# 5-EDA (Exploratory Data Analysis)"
   ]
  },
  {
   "cell_type": "code",
   "execution_count": 5,
   "metadata": {},
   "outputs": [
    {
     "data": {
      "text/html": [
       "<div>\n",
       "<style scoped>\n",
       "    .dataframe tbody tr th:only-of-type {\n",
       "        vertical-align: middle;\n",
       "    }\n",
       "\n",
       "    .dataframe tbody tr th {\n",
       "        vertical-align: top;\n",
       "    }\n",
       "\n",
       "    .dataframe thead th {\n",
       "        text-align: right;\n",
       "    }\n",
       "</style>\n",
       "<table border=\"1\" class=\"dataframe\">\n",
       "  <thead>\n",
       "    <tr style=\"text-align: right;\">\n",
       "      <th></th>\n",
       "      <th>CustomerID</th>\n",
       "      <th>Gender</th>\n",
       "      <th>Age</th>\n",
       "      <th>Annual Income ($)</th>\n",
       "      <th>Spending Score (1-100)</th>\n",
       "      <th>Profession</th>\n",
       "      <th>Work Experience</th>\n",
       "      <th>Family Size</th>\n",
       "    </tr>\n",
       "  </thead>\n",
       "  <tbody>\n",
       "    <tr>\n",
       "      <th>0</th>\n",
       "      <td>1</td>\n",
       "      <td>Male</td>\n",
       "      <td>19</td>\n",
       "      <td>15000.0</td>\n",
       "      <td>39</td>\n",
       "      <td>Healthcare</td>\n",
       "      <td>1</td>\n",
       "      <td>4</td>\n",
       "    </tr>\n",
       "    <tr>\n",
       "      <th>1</th>\n",
       "      <td>2</td>\n",
       "      <td>Male</td>\n",
       "      <td>21</td>\n",
       "      <td>35000.0</td>\n",
       "      <td>81</td>\n",
       "      <td>Engineer</td>\n",
       "      <td>3</td>\n",
       "      <td>3</td>\n",
       "    </tr>\n",
       "    <tr>\n",
       "      <th>2</th>\n",
       "      <td>3</td>\n",
       "      <td>Female</td>\n",
       "      <td>20</td>\n",
       "      <td>86000.0</td>\n",
       "      <td>6</td>\n",
       "      <td>Engineer</td>\n",
       "      <td>1</td>\n",
       "      <td>1</td>\n",
       "    </tr>\n",
       "    <tr>\n",
       "      <th>3</th>\n",
       "      <td>4</td>\n",
       "      <td>Female</td>\n",
       "      <td>23</td>\n",
       "      <td>59000.0</td>\n",
       "      <td>77</td>\n",
       "      <td>Lawyer</td>\n",
       "      <td>0</td>\n",
       "      <td>2</td>\n",
       "    </tr>\n",
       "    <tr>\n",
       "      <th>4</th>\n",
       "      <td>5</td>\n",
       "      <td>Female</td>\n",
       "      <td>31</td>\n",
       "      <td>38000.0</td>\n",
       "      <td>40</td>\n",
       "      <td>Entertainment</td>\n",
       "      <td>2</td>\n",
       "      <td>6</td>\n",
       "    </tr>\n",
       "  </tbody>\n",
       "</table>\n",
       "</div>"
      ],
      "text/plain": [
       "   CustomerID  Gender  Age  Annual Income ($)  Spending Score (1-100)  \\\n",
       "0           1    Male   19            15000.0                      39   \n",
       "1           2    Male   21            35000.0                      81   \n",
       "2           3  Female   20            86000.0                       6   \n",
       "3           4  Female   23            59000.0                      77   \n",
       "4           5  Female   31            38000.0                      40   \n",
       "\n",
       "      Profession  Work Experience  Family Size  \n",
       "0     Healthcare                1            4  \n",
       "1       Engineer                3            3  \n",
       "2       Engineer                1            1  \n",
       "3         Lawyer                0            2  \n",
       "4  Entertainment                2            6  "
      ]
     },
     "execution_count": 5,
     "metadata": {},
     "output_type": "execute_result"
    }
   ],
   "source": [
    "# loading data baru yang sudah di olah \n",
    "df = pd.read_csv('customers_baru.csv')\n",
    "df.head()"
   ]
  },
  {
   "cell_type": "markdown",
   "metadata": {},
   "source": [
    "berikut 5 data ter atas dari tabel customers terdapat,customer id , gender, annual income, spending score, proffesion, work experience ,dan family size"
   ]
  },
  {
   "cell_type": "markdown",
   "metadata": {},
   "source": [
    "## 5.1- Profesi yang paling banyak menjadi customer"
   ]
  },
  {
   "cell_type": "code",
   "execution_count": 6,
   "metadata": {},
   "outputs": [
    {
     "data": {
      "text/plain": [
       "array(['Healthcare', 'Engineer', 'Lawyer', 'Entertainment', 'Artist',\n",
       "       'Executive', 'Doctor', 'Homemaker', 'Marketing'], dtype=object)"
      ]
     },
     "execution_count": 6,
     "metadata": {},
     "output_type": "execute_result"
    }
   ],
   "source": [
    "df['Profession'].unique()"
   ]
  },
  {
   "cell_type": "markdown",
   "metadata": {},
   "source": [
    "Melihat apa saja isi dari kolom profession, terlihat ada 9 profesi dari 1965 data customers"
   ]
  },
  {
   "cell_type": "code",
   "execution_count": 7,
   "metadata": {},
   "outputs": [
    {
     "data": {
      "text/plain": [
       "Artist           612\n",
       "Healthcare       339\n",
       "Entertainment    234\n",
       "Engineer         179\n",
       "Doctor           161\n",
       "Executive        153\n",
       "Lawyer           142\n",
       "Marketing         85\n",
       "Homemaker         60\n",
       "Name: Profession, dtype: int64"
      ]
     },
     "execution_count": 7,
     "metadata": {},
     "output_type": "execute_result"
    }
   ],
   "source": [
    "df['Profession'].value_counts()"
   ]
  },
  {
   "cell_type": "markdown",
   "metadata": {},
   "source": [
    "melakukan pengecekan berapa banyak orang dalm suatu profesi. dan dari data di atas terlihat profesi terbanyak adalah artist/seniman, yang ke dua adalah healthcarae dan ke 3 entertainment."
   ]
  },
  {
   "cell_type": "code",
   "execution_count": 8,
   "metadata": {},
   "outputs": [
    {
     "data": {
      "image/png": "[encoded data removed]",
      "text/plain": [
       "<Figure size 800x800 with 1 Axes>"
      ]
     },
     "metadata": {},
     "output_type": "display_data"
    }
   ],
   "source": [
    "fig,ax1 = plt.subplots(figsize=(8,8))\n",
    "\n",
    "df['Profession'].value_counts().plot(kind='pie', autopct='%.2f%%',ax=ax1)\n",
    "plt.show()"
   ]
  },
  {
   "cell_type": "markdown",
   "metadata": {},
   "source": [
    "dari data di atas dapat diketahui bahwa profesi dari customer toko yang paling banyak adalah Artist/seniman sebesar 31,15% (612 orang), dan yang paling sedikit adalah Homemaker 3,05% (60 orang)"
   ]
  },
  {
   "cell_type": "markdown",
   "metadata": {},
   "source": [
    "## 5.2-Gender yang paling banyak menjadi customer"
   ]
  },
  {
   "cell_type": "code",
   "execution_count": 9,
   "metadata": {},
   "outputs": [
    {
     "data": {
      "text/plain": [
       "Female    1166\n",
       "Male       799\n",
       "Name: Gender, dtype: int64"
      ]
     },
     "execution_count": 9,
     "metadata": {},
     "output_type": "execute_result"
    }
   ],
   "source": [
    "df['Gender'].value_counts()"
   ]
  },
  {
   "cell_type": "markdown",
   "metadata": {},
   "source": [
    "dari pengecekan di atas terlihat bahwa dari 1965 data terdapat 1166 perempuan dan 799 laki-laki jadi bisa disimpulkan bahwa customer mostly perempuan."
   ]
  },
  {
   "cell_type": "code",
   "execution_count": 10,
   "metadata": {},
   "outputs": [
    {
     "data": {
      "image/png": "[encoded data removed]",
      "text/plain": [
       "<Figure size 800x800 with 1 Axes>"
      ]
     },
     "metadata": {},
     "output_type": "display_data"
    }
   ],
   "source": [
    "fig,ax1 = plt.subplots(figsize=(8,8))\n",
    "\n",
    "df['Gender'].value_counts().plot(kind='pie', autopct='%.2f%%',ax=ax1)\n",
    "plt.show()"
   ]
  },
  {
   "cell_type": "markdown",
   "metadata": {},
   "source": [
    "gender yang paling banyak menjadi customer adalah Female/Perempuan 59,34% atau 1166 orang"
   ]
  },
  {
   "cell_type": "markdown",
   "metadata": {},
   "source": [
    "## 5.3.-Pengaruh range gaji terhadap spending score tertinggi"
   ]
  },
  {
   "cell_type": "markdown",
   "metadata": {},
   "source": [
    "untuk mengetahui range gaji, annual income perlu di kelompokkan terlebih dahulu"
   ]
  },
  {
   "cell_type": "code",
   "execution_count": 13,
   "metadata": {},
   "outputs": [],
   "source": [
    "def range_anin (data):\n",
    "  lst = []\n",
    "  for i in data:\n",
    "      if i < 20000 :\n",
    "        lst.append(1)\n",
    "      elif i < 40000 :\n",
    "        lst.append(2)\n",
    "      elif i < 60000 :\n",
    "        lst.append(3) \n",
    "      elif i < 80000 :\n",
    "        lst.append(3)\n",
    "      elif i < 100000 :\n",
    "        lst.append(4)\n",
    "      elif i < 120000 :\n",
    "        lst.append(6)\n",
    "      elif i < 140000 :\n",
    "        lst.append(7)\n",
    "      elif i < 160000 :\n",
    "        lst.append(8)\n",
    "      elif i < 180000 :\n",
    "        lst.append(9)\n",
    "      elif i < 200000 :\n",
    "        lst.append(10)\n",
    "  return lst"
   ]
  },
  {
   "cell_type": "markdown",
   "metadata": {},
   "source": [
    "setelah mnegelompokkan annual income, langkah selanjutnya adalah membuat kolom baru pada tabel yang berisikan range annual income yang telah di buat"
   ]
  },
  {
   "cell_type": "code",
   "execution_count": 14,
   "metadata": {},
   "outputs": [],
   "source": [
    "ain = df['Annual Income ($)']\n",
    "range_pendapatan = range_anin(ain)"
   ]
  },
  {
   "cell_type": "code",
   "execution_count": 14,
   "metadata": {},
   "outputs": [
    {
     "data": {
      "text/html": [
       "<div>\n",
       "<style scoped>\n",
       "    .dataframe tbody tr th:only-of-type {\n",
       "        vertical-align: middle;\n",
       "    }\n",
       "\n",
       "    .dataframe tbody tr th {\n",
       "        vertical-align: top;\n",
       "    }\n",
       "\n",
       "    .dataframe thead th {\n",
       "        text-align: right;\n",
       "    }\n",
       "</style>\n",
       "<table border=\"1\" class=\"dataframe\">\n",
       "  <thead>\n",
       "    <tr style=\"text-align: right;\">\n",
       "      <th></th>\n",
       "      <th>CustomerID</th>\n",
       "      <th>Gender</th>\n",
       "      <th>Age</th>\n",
       "      <th>Annual Income ($)</th>\n",
       "      <th>Spending Score (1-100)</th>\n",
       "      <th>Profession</th>\n",
       "      <th>Work Experience</th>\n",
       "      <th>Family Size</th>\n",
       "      <th>New Annual Income</th>\n",
       "    </tr>\n",
       "  </thead>\n",
       "  <tbody>\n",
       "    <tr>\n",
       "      <th>0</th>\n",
       "      <td>1</td>\n",
       "      <td>Male</td>\n",
       "      <td>19</td>\n",
       "      <td>15000.0</td>\n",
       "      <td>39</td>\n",
       "      <td>Healthcare</td>\n",
       "      <td>1</td>\n",
       "      <td>4</td>\n",
       "      <td>1</td>\n",
       "    </tr>\n",
       "    <tr>\n",
       "      <th>1</th>\n",
       "      <td>2</td>\n",
       "      <td>Male</td>\n",
       "      <td>21</td>\n",
       "      <td>35000.0</td>\n",
       "      <td>81</td>\n",
       "      <td>Engineer</td>\n",
       "      <td>3</td>\n",
       "      <td>3</td>\n",
       "      <td>2</td>\n",
       "    </tr>\n",
       "    <tr>\n",
       "      <th>2</th>\n",
       "      <td>3</td>\n",
       "      <td>Female</td>\n",
       "      <td>20</td>\n",
       "      <td>86000.0</td>\n",
       "      <td>6</td>\n",
       "      <td>Engineer</td>\n",
       "      <td>1</td>\n",
       "      <td>1</td>\n",
       "      <td>4</td>\n",
       "    </tr>\n",
       "    <tr>\n",
       "      <th>3</th>\n",
       "      <td>4</td>\n",
       "      <td>Female</td>\n",
       "      <td>23</td>\n",
       "      <td>59000.0</td>\n",
       "      <td>77</td>\n",
       "      <td>Lawyer</td>\n",
       "      <td>0</td>\n",
       "      <td>2</td>\n",
       "      <td>3</td>\n",
       "    </tr>\n",
       "    <tr>\n",
       "      <th>4</th>\n",
       "      <td>5</td>\n",
       "      <td>Female</td>\n",
       "      <td>31</td>\n",
       "      <td>38000.0</td>\n",
       "      <td>40</td>\n",
       "      <td>Entertainment</td>\n",
       "      <td>2</td>\n",
       "      <td>6</td>\n",
       "      <td>2</td>\n",
       "    </tr>\n",
       "  </tbody>\n",
       "</table>\n",
       "</div>"
      ],
      "text/plain": [
       "   CustomerID  Gender  Age  Annual Income ($)  Spending Score (1-100)  \\\n",
       "0           1    Male   19            15000.0                      39   \n",
       "1           2    Male   21            35000.0                      81   \n",
       "2           3  Female   20            86000.0                       6   \n",
       "3           4  Female   23            59000.0                      77   \n",
       "4           5  Female   31            38000.0                      40   \n",
       "\n",
       "      Profession  Work Experience  Family Size  New Annual Income  \n",
       "0     Healthcare                1            4                  1  \n",
       "1       Engineer                3            3                  2  \n",
       "2       Engineer                1            1                  4  \n",
       "3         Lawyer                0            2                  3  \n",
       "4  Entertainment                2            6                  2  "
      ]
     },
     "execution_count": 14,
     "metadata": {},
     "output_type": "execute_result"
    }
   ],
   "source": [
    "df['New Annual Income'] = range_anin(ain)\n",
    "df.head()"
   ]
  },
  {
   "cell_type": "markdown",
   "metadata": {},
   "source": [
    "dari tabel di atas terlihat annual income sudah berhasil di tambahkan kedalam tabel"
   ]
  },
  {
   "cell_type": "markdown",
   "metadata": {},
   "source": [
    "langkah berikutnya adalah melakukan pengecekan untuk range dari annual income terhadap spending score tertinggi dengan cara sebagai berikut:"
   ]
  },
  {
   "cell_type": "code",
   "execution_count": 108,
   "metadata": {},
   "outputs": [],
   "source": [
    "income_spending_mean = df.groupby('New Annual Income')['Spending Score (1-100)'].mean().reset_index()"
   ]
  },
  {
   "cell_type": "code",
   "execution_count": 146,
   "metadata": {},
   "outputs": [
    {
     "data": {
      "text/html": [
       "<div>\n",
       "<style scoped>\n",
       "    .dataframe tbody tr th:only-of-type {\n",
       "        vertical-align: middle;\n",
       "    }\n",
       "\n",
       "    .dataframe tbody tr th {\n",
       "        vertical-align: top;\n",
       "    }\n",
       "\n",
       "    .dataframe thead th {\n",
       "        text-align: right;\n",
       "    }\n",
       "</style>\n",
       "<table border=\"1\" class=\"dataframe\">\n",
       "  <thead>\n",
       "    <tr style=\"text-align: right;\">\n",
       "      <th></th>\n",
       "      <th>New Annual Income</th>\n",
       "      <th>Spending Score (1-100)</th>\n",
       "    </tr>\n",
       "  </thead>\n",
       "  <tbody>\n",
       "    <tr>\n",
       "      <th>6</th>\n",
       "      <td>8</td>\n",
       "      <td>54.337121</td>\n",
       "    </tr>\n",
       "    <tr>\n",
       "      <th>5</th>\n",
       "      <td>7</td>\n",
       "      <td>52.386667</td>\n",
       "    </tr>\n",
       "    <tr>\n",
       "      <th>4</th>\n",
       "      <td>6</td>\n",
       "      <td>51.884000</td>\n",
       "    </tr>\n",
       "    <tr>\n",
       "      <th>7</th>\n",
       "      <td>9</td>\n",
       "      <td>51.477679</td>\n",
       "    </tr>\n",
       "    <tr>\n",
       "      <th>1</th>\n",
       "      <td>2</td>\n",
       "      <td>50.750000</td>\n",
       "    </tr>\n",
       "    <tr>\n",
       "      <th>3</th>\n",
       "      <td>4</td>\n",
       "      <td>50.258389</td>\n",
       "    </tr>\n",
       "    <tr>\n",
       "      <th>0</th>\n",
       "      <td>1</td>\n",
       "      <td>49.537037</td>\n",
       "    </tr>\n",
       "    <tr>\n",
       "      <th>2</th>\n",
       "      <td>3</td>\n",
       "      <td>49.359307</td>\n",
       "    </tr>\n",
       "    <tr>\n",
       "      <th>8</th>\n",
       "      <td>10</td>\n",
       "      <td>48.772727</td>\n",
       "    </tr>\n",
       "  </tbody>\n",
       "</table>\n",
       "</div>"
      ],
      "text/plain": [
       "   New Annual Income  Spending Score (1-100)\n",
       "6                  8               54.337121\n",
       "5                  7               52.386667\n",
       "4                  6               51.884000\n",
       "7                  9               51.477679\n",
       "1                  2               50.750000\n",
       "3                  4               50.258389\n",
       "0                  1               49.537037\n",
       "2                  3               49.359307\n",
       "8                 10               48.772727"
      ]
     },
     "execution_count": 146,
     "metadata": {},
     "output_type": "execute_result"
    }
   ],
   "source": [
    "income_spending_mean.sort_values(['Spending Score (1-100)'],ascending=False)"
   ]
  },
  {
   "cell_type": "markdown",
   "metadata": {},
   "source": [
    "dari data di atas terlihat range score tertinggi yaitu 54.337121 dari new annual income 8 (range harga < 180000)"
   ]
  },
  {
   "cell_type": "code",
   "execution_count": 147,
   "metadata": {},
   "outputs": [
    {
     "data": {
      "image/png": "[encoded data removed]",
      "text/plain": [
       "<Figure size 1000x600 with 1 Axes>"
      ]
     },
     "metadata": {},
     "output_type": "display_data"
    }
   ],
   "source": [
    "plt.figure(figsize=(10, 6))\n",
    "plt.bar(income_spending_mean['New Annual Income'], income_spending_mean['Spending Score (1-100)'])\n",
    "plt.xlabel('New Annual Income')\n",
    "plt.ylabel('Mean Spending Score (1-100)')\n",
    "plt.title('Mean Spending Score (1-100) by New Annual Income')\n",
    "plt.show()"
   ]
  },
  {
   "cell_type": "markdown",
   "metadata": {},
   "source": [
    "berikut adalah tampilan data mean spending score by annual income dan bisa di lihat data yang tertinggi adalah range harga no 8 yaitu kurang dari 180000"
   ]
  },
  {
   "cell_type": "markdown",
   "metadata": {},
   "source": [
    "## 5.4-Profesi apa yang memiliki rata rata spending score tertinggi"
   ]
  },
  {
   "cell_type": "markdown",
   "metadata": {},
   "source": [
    "untuk mengetahui profesi yang memiliki rata-rata spending score tertinggi dilakukan perhitungan sebagai berikut:"
   ]
  },
  {
   "cell_type": "code",
   "execution_count": 115,
   "metadata": {},
   "outputs": [],
   "source": [
    "profession_spending_mean = df.groupby('Profession')['Spending Score (1-100)'].mean().reset_index()"
   ]
  },
  {
   "cell_type": "code",
   "execution_count": 151,
   "metadata": {},
   "outputs": [
    {
     "data": {
      "text/html": [
       "<div>\n",
       "<style scoped>\n",
       "    .dataframe tbody tr th:only-of-type {\n",
       "        vertical-align: middle;\n",
       "    }\n",
       "\n",
       "    .dataframe tbody tr th {\n",
       "        vertical-align: top;\n",
       "    }\n",
       "\n",
       "    .dataframe thead th {\n",
       "        text-align: right;\n",
       "    }\n",
       "</style>\n",
       "<table border=\"1\" class=\"dataframe\">\n",
       "  <thead>\n",
       "    <tr style=\"text-align: right;\">\n",
       "      <th></th>\n",
       "      <th>Profession</th>\n",
       "      <th>Spending Score (1-100)</th>\n",
       "    </tr>\n",
       "  </thead>\n",
       "  <tbody>\n",
       "    <tr>\n",
       "      <th>3</th>\n",
       "      <td>Entertainment</td>\n",
       "      <td>52.940171</td>\n",
       "    </tr>\n",
       "    <tr>\n",
       "      <th>0</th>\n",
       "      <td>Artist</td>\n",
       "      <td>52.678105</td>\n",
       "    </tr>\n",
       "    <tr>\n",
       "      <th>1</th>\n",
       "      <td>Doctor</td>\n",
       "      <td>51.900621</td>\n",
       "    </tr>\n",
       "    <tr>\n",
       "      <th>5</th>\n",
       "      <td>Healthcare</td>\n",
       "      <td>50.516224</td>\n",
       "    </tr>\n",
       "    <tr>\n",
       "      <th>4</th>\n",
       "      <td>Executive</td>\n",
       "      <td>49.901961</td>\n",
       "    </tr>\n",
       "    <tr>\n",
       "      <th>2</th>\n",
       "      <td>Engineer</td>\n",
       "      <td>48.966480</td>\n",
       "    </tr>\n",
       "    <tr>\n",
       "      <th>7</th>\n",
       "      <td>Lawyer</td>\n",
       "      <td>48.859155</td>\n",
       "    </tr>\n",
       "    <tr>\n",
       "      <th>8</th>\n",
       "      <td>Marketing</td>\n",
       "      <td>48.717647</td>\n",
       "    </tr>\n",
       "    <tr>\n",
       "      <th>6</th>\n",
       "      <td>Homemaker</td>\n",
       "      <td>46.383333</td>\n",
       "    </tr>\n",
       "  </tbody>\n",
       "</table>\n",
       "</div>"
      ],
      "text/plain": [
       "      Profession  Spending Score (1-100)\n",
       "3  Entertainment               52.940171\n",
       "0         Artist               52.678105\n",
       "1         Doctor               51.900621\n",
       "5     Healthcare               50.516224\n",
       "4      Executive               49.901961\n",
       "2       Engineer               48.966480\n",
       "7         Lawyer               48.859155\n",
       "8      Marketing               48.717647\n",
       "6      Homemaker               46.383333"
      ]
     },
     "execution_count": 151,
     "metadata": {},
     "output_type": "execute_result"
    }
   ],
   "source": [
    "profession_spending_mean.sort_values(['Spending Score (1-100)'],ascending=False)"
   ]
  },
  {
   "cell_type": "markdown",
   "metadata": {},
   "source": [
    "dari data di atas terlihat kalau dilihat dari profession yang memiliki rata-rata spending tertinggi adalah entertainment dan yang terendah adalah homemaker"
   ]
  },
  {
   "cell_type": "code",
   "execution_count": 145,
   "metadata": {},
   "outputs": [
    {
     "data": {
      "image/png": "[encoded data removed]",
      "text/plain": [
       "<Figure size 1000x600 with 1 Axes>"
      ]
     },
     "metadata": {},
     "output_type": "display_data"
    }
   ],
   "source": [
    "plt.figure(figsize=(10, 6))\n",
    "plt.bar(profession_spending_mean['Profession'], profession_spending_mean['Spending Score (1-100)'])\n",
    "plt.xlabel('Profession')\n",
    "plt.ylabel('Mean Spending Score (1-100)')\n",
    "plt.title('Mean Spending Score (1-100) by Profession')\n",
    "plt.show()"
   ]
  },
  {
   "cell_type": "markdown",
   "metadata": {},
   "source": [
    "berikut adalah data bar yang ditampilkan dari hasil mean spending score by profession dari cart di atas dapat dilihat mean spending score dari profesi dengan "
   ]
  },
  {
   "cell_type": "markdown",
   "metadata": {},
   "source": [
    "## 5.5-Pengaruh range gaji terhadap spending score"
   ]
  },
  {
   "cell_type": "markdown",
   "metadata": {},
   "source": [
    "untuk mengetahui pengaruh range gaji terhadap spending score maka menggunakan metode chi square dengan hipotesis sebagai berikut:\n",
    "\n",
    "H0: tidak ada pengaruh signifikan Range gaji terhadap Spending Score\n",
    "\n",
    "H1: terdapat pengaruh yang signifikan antara Range Gaji terhadap spending score"
   ]
  },
  {
   "cell_type": "markdown",
   "metadata": {},
   "source": [
    "karena menggunakan metode chi suare dimana membandingkan 2 variabel dengan jenis kateggorial maka perlu di lakukan pengelompokan terhadap kolom annual income dan spending score karena annual income sudah di kelompokkan menjadi New Annual Income maka langsung lanjut untuk melakukan pengelompokkan pada Spending Score."
   ]
  },
  {
   "cell_type": "code",
   "execution_count": 85,
   "metadata": {},
   "outputs": [],
   "source": [
    "def range_score (data):\n",
    "  lst = []\n",
    "  for i in data:\n",
    "      if i <= 10 :\n",
    "        lst.append(1)\n",
    "      elif i <= 20 :\n",
    "        lst.append(2)\n",
    "      elif i <= 30 :\n",
    "        lst.append(3) \n",
    "      elif i <= 40 :\n",
    "        lst.append(3)\n",
    "      elif i <= 50 :\n",
    "        lst.append(4)\n",
    "      elif i <= 60 :\n",
    "        lst.append(6)\n",
    "      elif i <= 70 :\n",
    "        lst.append(7)\n",
    "      elif i <= 80 :\n",
    "        lst.append(8)\n",
    "      elif i <= 90 :\n",
    "        lst.append(9)\n",
    "      elif i <= 100 :\n",
    "        lst.append(10)\n",
    "  return lst"
   ]
  },
  {
   "cell_type": "markdown",
   "metadata": {},
   "source": [
    "setelah mengelompokkan new spending score langkah selanjutnya adalah menambahkan kolo baru new spending score ke dalam tabel"
   ]
  },
  {
   "cell_type": "code",
   "execution_count": 86,
   "metadata": {},
   "outputs": [],
   "source": [
    "sps = df['Spending Score (1-100)']\n",
    "new_score = range_score(sps)"
   ]
  },
  {
   "cell_type": "code",
   "execution_count": 87,
   "metadata": {},
   "outputs": [
    {
     "data": {
      "text/html": [
       "<div>\n",
       "<style scoped>\n",
       "    .dataframe tbody tr th:only-of-type {\n",
       "        vertical-align: middle;\n",
       "    }\n",
       "\n",
       "    .dataframe tbody tr th {\n",
       "        vertical-align: top;\n",
       "    }\n",
       "\n",
       "    .dataframe thead th {\n",
       "        text-align: right;\n",
       "    }\n",
       "</style>\n",
       "<table border=\"1\" class=\"dataframe\">\n",
       "  <thead>\n",
       "    <tr style=\"text-align: right;\">\n",
       "      <th></th>\n",
       "      <th>CustomerID</th>\n",
       "      <th>Gender</th>\n",
       "      <th>Age</th>\n",
       "      <th>Annual Income ($)</th>\n",
       "      <th>Spending Score (1-100)</th>\n",
       "      <th>Profession</th>\n",
       "      <th>Work Experience</th>\n",
       "      <th>Family Size</th>\n",
       "      <th>New Annual Income</th>\n",
       "      <th>New Spending Score</th>\n",
       "    </tr>\n",
       "  </thead>\n",
       "  <tbody>\n",
       "    <tr>\n",
       "      <th>0</th>\n",
       "      <td>1</td>\n",
       "      <td>Male</td>\n",
       "      <td>19</td>\n",
       "      <td>15000.0</td>\n",
       "      <td>39</td>\n",
       "      <td>Healthcare</td>\n",
       "      <td>1</td>\n",
       "      <td>4</td>\n",
       "      <td>1</td>\n",
       "      <td>3</td>\n",
       "    </tr>\n",
       "    <tr>\n",
       "      <th>1</th>\n",
       "      <td>2</td>\n",
       "      <td>Male</td>\n",
       "      <td>21</td>\n",
       "      <td>35000.0</td>\n",
       "      <td>81</td>\n",
       "      <td>Engineer</td>\n",
       "      <td>3</td>\n",
       "      <td>3</td>\n",
       "      <td>2</td>\n",
       "      <td>9</td>\n",
       "    </tr>\n",
       "    <tr>\n",
       "      <th>2</th>\n",
       "      <td>3</td>\n",
       "      <td>Female</td>\n",
       "      <td>20</td>\n",
       "      <td>86000.0</td>\n",
       "      <td>6</td>\n",
       "      <td>Engineer</td>\n",
       "      <td>1</td>\n",
       "      <td>1</td>\n",
       "      <td>4</td>\n",
       "      <td>1</td>\n",
       "    </tr>\n",
       "    <tr>\n",
       "      <th>3</th>\n",
       "      <td>4</td>\n",
       "      <td>Female</td>\n",
       "      <td>23</td>\n",
       "      <td>59000.0</td>\n",
       "      <td>77</td>\n",
       "      <td>Lawyer</td>\n",
       "      <td>0</td>\n",
       "      <td>2</td>\n",
       "      <td>3</td>\n",
       "      <td>8</td>\n",
       "    </tr>\n",
       "    <tr>\n",
       "      <th>4</th>\n",
       "      <td>5</td>\n",
       "      <td>Female</td>\n",
       "      <td>31</td>\n",
       "      <td>38000.0</td>\n",
       "      <td>40</td>\n",
       "      <td>Entertainment</td>\n",
       "      <td>2</td>\n",
       "      <td>6</td>\n",
       "      <td>2</td>\n",
       "      <td>3</td>\n",
       "    </tr>\n",
       "  </tbody>\n",
       "</table>\n",
       "</div>"
      ],
      "text/plain": [
       "   CustomerID  Gender  Age  Annual Income ($)  Spending Score (1-100)  \\\n",
       "0           1    Male   19            15000.0                      39   \n",
       "1           2    Male   21            35000.0                      81   \n",
       "2           3  Female   20            86000.0                       6   \n",
       "3           4  Female   23            59000.0                      77   \n",
       "4           5  Female   31            38000.0                      40   \n",
       "\n",
       "      Profession  Work Experience  Family Size  New Annual Income  \\\n",
       "0     Healthcare                1            4                  1   \n",
       "1       Engineer                3            3                  2   \n",
       "2       Engineer                1            1                  4   \n",
       "3         Lawyer                0            2                  3   \n",
       "4  Entertainment                2            6                  2   \n",
       "\n",
       "   New Spending Score  \n",
       "0                   3  \n",
       "1                   9  \n",
       "2                   1  \n",
       "3                   8  \n",
       "4                   3  "
      ]
     },
     "execution_count": 87,
     "metadata": {},
     "output_type": "execute_result"
    }
   ],
   "source": [
    "df['New Spending Score'] = range_score(sps)\n",
    "df.head()"
   ]
  },
  {
   "cell_type": "markdown",
   "metadata": {},
   "source": [
    "berikut adalah kolom baru dari range spending score yang telah di tambahkan ke dalam tabel"
   ]
  },
  {
   "cell_type": "code",
   "execution_count": 88,
   "metadata": {},
   "outputs": [
    {
     "data": {
      "text/html": [
       "<div>\n",
       "<style scoped>\n",
       "    .dataframe tbody tr th:only-of-type {\n",
       "        vertical-align: middle;\n",
       "    }\n",
       "\n",
       "    .dataframe tbody tr th {\n",
       "        vertical-align: top;\n",
       "    }\n",
       "\n",
       "    .dataframe thead th {\n",
       "        text-align: right;\n",
       "    }\n",
       "</style>\n",
       "<table border=\"1\" class=\"dataframe\">\n",
       "  <thead>\n",
       "    <tr style=\"text-align: right;\">\n",
       "      <th>New Spending Score</th>\n",
       "      <th>1</th>\n",
       "      <th>2</th>\n",
       "      <th>3</th>\n",
       "      <th>4</th>\n",
       "      <th>6</th>\n",
       "      <th>7</th>\n",
       "      <th>8</th>\n",
       "      <th>9</th>\n",
       "      <th>10</th>\n",
       "    </tr>\n",
       "    <tr>\n",
       "      <th>New Annual Income</th>\n",
       "      <th></th>\n",
       "      <th></th>\n",
       "      <th></th>\n",
       "      <th></th>\n",
       "      <th></th>\n",
       "      <th></th>\n",
       "      <th></th>\n",
       "      <th></th>\n",
       "      <th></th>\n",
       "    </tr>\n",
       "  </thead>\n",
       "  <tbody>\n",
       "    <tr>\n",
       "      <th>1</th>\n",
       "      <td>2</td>\n",
       "      <td>10</td>\n",
       "      <td>8</td>\n",
       "      <td>10</td>\n",
       "      <td>6</td>\n",
       "      <td>3</td>\n",
       "      <td>6</td>\n",
       "      <td>4</td>\n",
       "      <td>5</td>\n",
       "    </tr>\n",
       "    <tr>\n",
       "      <th>2</th>\n",
       "      <td>6</td>\n",
       "      <td>5</td>\n",
       "      <td>11</td>\n",
       "      <td>6</td>\n",
       "      <td>6</td>\n",
       "      <td>5</td>\n",
       "      <td>6</td>\n",
       "      <td>6</td>\n",
       "      <td>5</td>\n",
       "    </tr>\n",
       "    <tr>\n",
       "      <th>3</th>\n",
       "      <td>45</td>\n",
       "      <td>49</td>\n",
       "      <td>87</td>\n",
       "      <td>58</td>\n",
       "      <td>50</td>\n",
       "      <td>45</td>\n",
       "      <td>46</td>\n",
       "      <td>45</td>\n",
       "      <td>37</td>\n",
       "    </tr>\n",
       "    <tr>\n",
       "      <th>4</th>\n",
       "      <td>29</td>\n",
       "      <td>30</td>\n",
       "      <td>52</td>\n",
       "      <td>42</td>\n",
       "      <td>37</td>\n",
       "      <td>20</td>\n",
       "      <td>29</td>\n",
       "      <td>31</td>\n",
       "      <td>28</td>\n",
       "    </tr>\n",
       "    <tr>\n",
       "      <th>6</th>\n",
       "      <td>20</td>\n",
       "      <td>18</td>\n",
       "      <td>56</td>\n",
       "      <td>30</td>\n",
       "      <td>29</td>\n",
       "      <td>21</td>\n",
       "      <td>25</td>\n",
       "      <td>23</td>\n",
       "      <td>28</td>\n",
       "    </tr>\n",
       "    <tr>\n",
       "      <th>7</th>\n",
       "      <td>20</td>\n",
       "      <td>19</td>\n",
       "      <td>40</td>\n",
       "      <td>33</td>\n",
       "      <td>24</td>\n",
       "      <td>24</td>\n",
       "      <td>17</td>\n",
       "      <td>17</td>\n",
       "      <td>31</td>\n",
       "    </tr>\n",
       "    <tr>\n",
       "      <th>8</th>\n",
       "      <td>12</td>\n",
       "      <td>26</td>\n",
       "      <td>53</td>\n",
       "      <td>30</td>\n",
       "      <td>32</td>\n",
       "      <td>18</td>\n",
       "      <td>25</td>\n",
       "      <td>38</td>\n",
       "      <td>30</td>\n",
       "    </tr>\n",
       "    <tr>\n",
       "      <th>9</th>\n",
       "      <td>18</td>\n",
       "      <td>22</td>\n",
       "      <td>44</td>\n",
       "      <td>28</td>\n",
       "      <td>26</td>\n",
       "      <td>22</td>\n",
       "      <td>18</td>\n",
       "      <td>19</td>\n",
       "      <td>27</td>\n",
       "    </tr>\n",
       "    <tr>\n",
       "      <th>10</th>\n",
       "      <td>12</td>\n",
       "      <td>10</td>\n",
       "      <td>30</td>\n",
       "      <td>15</td>\n",
       "      <td>23</td>\n",
       "      <td>12</td>\n",
       "      <td>11</td>\n",
       "      <td>12</td>\n",
       "      <td>7</td>\n",
       "    </tr>\n",
       "  </tbody>\n",
       "</table>\n",
       "</div>"
      ],
      "text/plain": [
       "New Spending Score  1   2   3   4   6   7   8   9   10\n",
       "New Annual Income                                     \n",
       "1                    2  10   8  10   6   3   6   4   5\n",
       "2                    6   5  11   6   6   5   6   6   5\n",
       "3                   45  49  87  58  50  45  46  45  37\n",
       "4                   29  30  52  42  37  20  29  31  28\n",
       "6                   20  18  56  30  29  21  25  23  28\n",
       "7                   20  19  40  33  24  24  17  17  31\n",
       "8                   12  26  53  30  32  18  25  38  30\n",
       "9                   18  22  44  28  26  22  18  19  27\n",
       "10                  12  10  30  15  23  12  11  12   7"
      ]
     },
     "execution_count": 88,
     "metadata": {},
     "output_type": "execute_result"
    }
   ],
   "source": [
    "#Contingency Table\n",
    "contingency_table = pd.crosstab(df['New Annual Income'],df['New Spending Score'])\n",
    "contingency_table"
   ]
  },
  {
   "cell_type": "markdown",
   "metadata": {},
   "source": [
    "dari data di atas terlihat kategori baru dari range spending score yang sudah di buat sebelumnya"
   ]
  },
  {
   "cell_type": "code",
   "execution_count": 89,
   "metadata": {},
   "outputs": [
    {
     "name": "stdout",
     "output_type": "stream",
     "text": [
      "P-value: 0.8672525559043979\n"
     ]
    }
   ],
   "source": [
    "res = stats.chi2_contingency(contingency_table)\n",
    "print(\"P-value:\",res.pvalue)"
   ]
  },
  {
   "cell_type": "markdown",
   "metadata": {},
   "source": [
    "    (H0): annual income berpengruh terhadap Spending Score customers.\n",
    "\n",
    "    (H1): annual income tidak berpengaruhberpengruh terhadap Spending Score customers."
   ]
  },
  {
   "cell_type": "markdown",
   "metadata": {},
   "source": [
    "dengan nilai 0,86 > 0.05 sehingga dari data di atas dapat disimpulkan bahwa annual income tidak berpengaruh terhadap spending score."
   ]
  },
  {
   "cell_type": "markdown",
   "metadata": {},
   "source": [
    "## 5.6-Apakah Family Size berpengaruh terhadap spending score "
   ]
  },
  {
   "cell_type": "markdown",
   "metadata": {},
   "source": [
    "pertama tama lakukan pengecekan ada  berapa maksimal dan minimal anggota keluarga dari customers"
   ]
  },
  {
   "cell_type": "code",
   "execution_count": 16,
   "metadata": {},
   "outputs": [
    {
     "data": {
      "text/plain": [
       "1"
      ]
     },
     "execution_count": 16,
     "metadata": {},
     "output_type": "execute_result"
    }
   ],
   "source": [
    "df[\"Family Size\"].min()"
   ]
  },
  {
   "cell_type": "markdown",
   "metadata": {},
   "source": [
    "dari data di atas terlihat minimal seorang customer memiliki 1 orang dalam keluarga."
   ]
  },
  {
   "cell_type": "code",
   "execution_count": 17,
   "metadata": {},
   "outputs": [
    {
     "data": {
      "text/plain": [
       "9"
      ]
     },
     "execution_count": 17,
     "metadata": {},
     "output_type": "execute_result"
    }
   ],
   "source": [
    "df[\"Family Size\"].max()"
   ]
  },
  {
   "cell_type": "markdown",
   "metadata": {},
   "source": [
    "dari data di atas terlihat bahwa seorang customer maksimal memiliki 9 orang dalam keluarganya."
   ]
  },
  {
   "cell_type": "markdown",
   "metadata": {},
   "source": [
    "untuk mengetahui pengaruh familysize terhadap spending score maka menggunakan metode chi square dengan hipotesis sebagai berikut:\n",
    "\n",
    "H0: family size tidak berpengaruh signifikan terhadap spending record customers.\n",
    "\n",
    "H1: family size berpengaruh signifikan terhadap spending record customers."
   ]
  },
  {
   "cell_type": "markdown",
   "metadata": {},
   "source": [
    "karena menggunakan metode chi suare dimana membandingkan 2 variabel dengan jenis kateggorial maka perlu di lakukan pengelompokan terhadap kolom family size"
   ]
  },
  {
   "cell_type": "code",
   "execution_count": 15,
   "metadata": {},
   "outputs": [],
   "source": [
    "def range_family (data):\n",
    "  lst = []\n",
    "  for i in data:\n",
    "    if i <= 3 :\n",
    "        lst.append (1)\n",
    "    elif i <= 6 :\n",
    "        lst.append (2)\n",
    "    elif i <= 9 :\n",
    "        lst.append (3)\n",
    "  return lst"
   ]
  },
  {
   "cell_type": "markdown",
   "metadata": {},
   "source": [
    "setelah mengelompokkan family size langkah selanjutnya adalah menambahkan kolom baru new family size ke dalam tabel"
   ]
  },
  {
   "cell_type": "code",
   "execution_count": 16,
   "metadata": {},
   "outputs": [],
   "source": [
    "fss = df['Family Size']\n",
    "new_fss = range_family(fss)"
   ]
  },
  {
   "cell_type": "code",
   "execution_count": 129,
   "metadata": {},
   "outputs": [
    {
     "data": {
      "text/html": [
       "<div>\n",
       "<style scoped>\n",
       "    .dataframe tbody tr th:only-of-type {\n",
       "        vertical-align: middle;\n",
       "    }\n",
       "\n",
       "    .dataframe tbody tr th {\n",
       "        vertical-align: top;\n",
       "    }\n",
       "\n",
       "    .dataframe thead th {\n",
       "        text-align: right;\n",
       "    }\n",
       "</style>\n",
       "<table border=\"1\" class=\"dataframe\">\n",
       "  <thead>\n",
       "    <tr style=\"text-align: right;\">\n",
       "      <th></th>\n",
       "      <th>CustomerID</th>\n",
       "      <th>Gender</th>\n",
       "      <th>Age</th>\n",
       "      <th>Annual Income ($)</th>\n",
       "      <th>Spending Score (1-100)</th>\n",
       "      <th>Profession</th>\n",
       "      <th>Work Experience</th>\n",
       "      <th>Family Size</th>\n",
       "      <th>New Annual Income</th>\n",
       "      <th>New Spending Score</th>\n",
       "      <th>New Family Size</th>\n",
       "    </tr>\n",
       "  </thead>\n",
       "  <tbody>\n",
       "    <tr>\n",
       "      <th>0</th>\n",
       "      <td>1</td>\n",
       "      <td>Male</td>\n",
       "      <td>19</td>\n",
       "      <td>15000.0</td>\n",
       "      <td>39</td>\n",
       "      <td>Healthcare</td>\n",
       "      <td>1</td>\n",
       "      <td>4</td>\n",
       "      <td>1</td>\n",
       "      <td>3</td>\n",
       "      <td>2</td>\n",
       "    </tr>\n",
       "    <tr>\n",
       "      <th>1</th>\n",
       "      <td>2</td>\n",
       "      <td>Male</td>\n",
       "      <td>21</td>\n",
       "      <td>35000.0</td>\n",
       "      <td>81</td>\n",
       "      <td>Engineer</td>\n",
       "      <td>3</td>\n",
       "      <td>3</td>\n",
       "      <td>2</td>\n",
       "      <td>9</td>\n",
       "      <td>1</td>\n",
       "    </tr>\n",
       "    <tr>\n",
       "      <th>2</th>\n",
       "      <td>3</td>\n",
       "      <td>Female</td>\n",
       "      <td>20</td>\n",
       "      <td>86000.0</td>\n",
       "      <td>6</td>\n",
       "      <td>Engineer</td>\n",
       "      <td>1</td>\n",
       "      <td>1</td>\n",
       "      <td>4</td>\n",
       "      <td>1</td>\n",
       "      <td>1</td>\n",
       "    </tr>\n",
       "    <tr>\n",
       "      <th>3</th>\n",
       "      <td>4</td>\n",
       "      <td>Female</td>\n",
       "      <td>23</td>\n",
       "      <td>59000.0</td>\n",
       "      <td>77</td>\n",
       "      <td>Lawyer</td>\n",
       "      <td>0</td>\n",
       "      <td>2</td>\n",
       "      <td>3</td>\n",
       "      <td>8</td>\n",
       "      <td>1</td>\n",
       "    </tr>\n",
       "    <tr>\n",
       "      <th>4</th>\n",
       "      <td>5</td>\n",
       "      <td>Female</td>\n",
       "      <td>31</td>\n",
       "      <td>38000.0</td>\n",
       "      <td>40</td>\n",
       "      <td>Entertainment</td>\n",
       "      <td>2</td>\n",
       "      <td>6</td>\n",
       "      <td>2</td>\n",
       "      <td>3</td>\n",
       "      <td>2</td>\n",
       "    </tr>\n",
       "  </tbody>\n",
       "</table>\n",
       "</div>"
      ],
      "text/plain": [
       "   CustomerID  Gender  Age  Annual Income ($)  Spending Score (1-100)  \\\n",
       "0           1    Male   19            15000.0                      39   \n",
       "1           2    Male   21            35000.0                      81   \n",
       "2           3  Female   20            86000.0                       6   \n",
       "3           4  Female   23            59000.0                      77   \n",
       "4           5  Female   31            38000.0                      40   \n",
       "\n",
       "      Profession  Work Experience  Family Size  New Annual Income  \\\n",
       "0     Healthcare                1            4                  1   \n",
       "1       Engineer                3            3                  2   \n",
       "2       Engineer                1            1                  4   \n",
       "3         Lawyer                0            2                  3   \n",
       "4  Entertainment                2            6                  2   \n",
       "\n",
       "   New Spending Score  New Family Size  \n",
       "0                   3                2  \n",
       "1                   9                1  \n",
       "2                   1                1  \n",
       "3                   8                1  \n",
       "4                   3                2  "
      ]
     },
     "execution_count": 129,
     "metadata": {},
     "output_type": "execute_result"
    }
   ],
   "source": [
    "df['New Family Size'] = range_family(fss)\n",
    "df.head()"
   ]
  },
  {
   "cell_type": "markdown",
   "metadata": {},
   "source": [
    "dari data di atas terlihat kolm baru new family size telah berhasil di tambahkan"
   ]
  },
  {
   "cell_type": "code",
   "execution_count": 130,
   "metadata": {},
   "outputs": [
    {
     "data": {
      "text/html": [
       "<div>\n",
       "<style scoped>\n",
       "    .dataframe tbody tr th:only-of-type {\n",
       "        vertical-align: middle;\n",
       "    }\n",
       "\n",
       "    .dataframe tbody tr th {\n",
       "        vertical-align: top;\n",
       "    }\n",
       "\n",
       "    .dataframe thead th {\n",
       "        text-align: right;\n",
       "    }\n",
       "</style>\n",
       "<table border=\"1\" class=\"dataframe\">\n",
       "  <thead>\n",
       "    <tr style=\"text-align: right;\">\n",
       "      <th>New Spending Score</th>\n",
       "      <th>1</th>\n",
       "      <th>2</th>\n",
       "      <th>3</th>\n",
       "      <th>4</th>\n",
       "      <th>6</th>\n",
       "      <th>7</th>\n",
       "      <th>8</th>\n",
       "      <th>9</th>\n",
       "      <th>10</th>\n",
       "    </tr>\n",
       "    <tr>\n",
       "      <th>New Family Size</th>\n",
       "      <th></th>\n",
       "      <th></th>\n",
       "      <th></th>\n",
       "      <th></th>\n",
       "      <th></th>\n",
       "      <th></th>\n",
       "      <th></th>\n",
       "      <th></th>\n",
       "      <th></th>\n",
       "    </tr>\n",
       "  </thead>\n",
       "  <tbody>\n",
       "    <tr>\n",
       "      <th>1</th>\n",
       "      <td>84</td>\n",
       "      <td>100</td>\n",
       "      <td>176</td>\n",
       "      <td>123</td>\n",
       "      <td>114</td>\n",
       "      <td>79</td>\n",
       "      <td>92</td>\n",
       "      <td>99</td>\n",
       "      <td>94</td>\n",
       "    </tr>\n",
       "    <tr>\n",
       "      <th>2</th>\n",
       "      <td>64</td>\n",
       "      <td>69</td>\n",
       "      <td>149</td>\n",
       "      <td>102</td>\n",
       "      <td>90</td>\n",
       "      <td>67</td>\n",
       "      <td>76</td>\n",
       "      <td>75</td>\n",
       "      <td>81</td>\n",
       "    </tr>\n",
       "    <tr>\n",
       "      <th>3</th>\n",
       "      <td>16</td>\n",
       "      <td>20</td>\n",
       "      <td>56</td>\n",
       "      <td>27</td>\n",
       "      <td>29</td>\n",
       "      <td>24</td>\n",
       "      <td>15</td>\n",
       "      <td>21</td>\n",
       "      <td>23</td>\n",
       "    </tr>\n",
       "  </tbody>\n",
       "</table>\n",
       "</div>"
      ],
      "text/plain": [
       "New Spending Score  1    2    3    4    6   7   8   9   10\n",
       "New Family Size                                           \n",
       "1                   84  100  176  123  114  79  92  99  94\n",
       "2                   64   69  149  102   90  67  76  75  81\n",
       "3                   16   20   56   27   29  24  15  21  23"
      ]
     },
     "execution_count": 130,
     "metadata": {},
     "output_type": "execute_result"
    }
   ],
   "source": [
    "#Contingency Table\n",
    "contingency_table = pd.crosstab(df['New Family Size'],df['New Spending Score'])\n",
    "contingency_table"
   ]
  },
  {
   "cell_type": "markdown",
   "metadata": {},
   "source": [
    "dari data di atas terlihat ada Range new spending score yang barusan di buat"
   ]
  },
  {
   "cell_type": "code",
   "execution_count": 131,
   "metadata": {},
   "outputs": [
    {
     "name": "stdout",
     "output_type": "stream",
     "text": [
      "P-value: 0.885773024674162\n"
     ]
    }
   ],
   "source": [
    "res = stats.chi2_contingency(contingency_table)\n",
    "print(\"P-value:\",res.pvalue)"
   ]
  },
  {
   "cell_type": "markdown",
   "metadata": {},
   "source": [
    "dengan nilai 0,88 > 0.05 sehingga dari data di atas dapat disimpulkan bahwa family size tidak berpengaruh terhadap spending score."
   ]
  },
  {
   "cell_type": "markdown",
   "metadata": {},
   "source": [
    "## 5.7-Central Tendency Annual Income (Statistik Deksriptif)"
   ]
  },
  {
   "cell_type": "code",
   "execution_count": 154,
   "metadata": {},
   "outputs": [
    {
     "name": "stdout",
     "output_type": "stream",
     "text": [
      "Average of Spending Score (1-100): 110616.0096692112\n",
      "Median of Spending Score (1-100): 109759.0\n",
      "Mode of Spending Score (1-100): 9000.0\n"
     ]
    }
   ],
   "source": [
    "# Perhitungan central tendency (mean, median, modus) spending score\n",
    "print('Average of Spending Score (1-100):',df['Annual Income ($)'].mean())\n",
    "print('Median of Spending Score (1-100):',df['Annual Income ($)'].median())\n",
    "print('Mode of Spending Score (1-100):',df['Annual Income ($)'].mode().values[0])"
   ]
  },
  {
   "cell_type": "markdown",
   "metadata": {},
   "source": [
    "Nilai rata-rata (mean) dari data Spending Score yang ada dalam rentang 1 hingga 100. Nilai ini mengindikasikan bahwa rata-rata dari semua nilai Spending Score dalam rentang ini adalah sekitar 110,616.0096692112.\n",
    "\"Median of Spending Score (1-100): 109759.0\"\n",
    "\n",
    "Ini adalah nilai median (nilai tengah) dari data Spending Score dalam rentang 1 hingga 100. Median adalah nilai yang membagi data menjadi dua bagian yang sama besar. Dalam kasus ini, nilai tengahnya adalah 109,759.0, yang berarti setengah dari data memiliki nilai Spending Score di bawah 109,759.0 dan setengah lainnya memiliki nilai di atas 109,759.0.\n",
    "\n",
    "Ini adalah nilai modus dari data Spending Score dalam rentang 1 hingga 100. Modus adalah nilai yang paling sering muncul dalam data. Dalam hal ini, nilai yang paling sering muncul dalam rentang tersebut adalah 9000.0, yang berarti nilai 9000.0 muncul lebih sering daripada nilai-nilai lainnya dalam data tersebut.\n"
   ]
  },
  {
   "cell_type": "code",
   "execution_count": 124,
   "metadata": {},
   "outputs": [
    {
     "name": "stdout",
     "output_type": "stream",
     "text": [
      "Skewness: -0.11468074032367216\n",
      "Kurtosis: -0.8460347592029849\n"
     ]
    }
   ],
   "source": [
    "# pengecekan skewness dan kurtosis.\n",
    "print(f\"Skewness: {df['Annual Income ($)'].skew()}\")\n",
    "print(f\"Kurtosis: {df['Annual Income ($)'].kurtosis()}\")"
   ]
  },
  {
   "cell_type": "code",
   "execution_count": 126,
   "metadata": {},
   "outputs": [
    {
     "data": {
      "image/png": "[encoded data removed]",
      "text/plain": [
       "<Figure size 640x480 with 1 Axes>"
      ]
     },
     "metadata": {},
     "output_type": "display_data"
    }
   ],
   "source": [
    "# Create a histogram\n",
    "plt.hist(df['Annual Income ($)'], bins=20, density=True, alpha=0.6, color='b')\n",
    "\n",
    "# Add labels and a title\n",
    "plt.xlabel('Skewness')\n",
    "plt.ylabel('Kurtosis')\n",
    "plt.title('Histogram')\n",
    "\n",
    "# Show the histogram\n",
    "plt.show()"
   ]
  },
  {
   "cell_type": "markdown",
   "metadata": {},
   "source": [
    "Skewness Annual Income bernilai -0.11468074032367216, yang mendekati nol. Ini menunjukkan bahwa distribusi pendapatan tahunan cenderung cukup simetris atau memiliki sedikit kemiringan. Ini berarti sebagian besar pelanggan memiliki pendapatan yang berada di sekitar rata-rata atau median pendapatan tahunan.\n",
    "\n",
    "kurtosis Annual Income bernilai -0.8460347592029849. Ini menunjukkan bahwa distribusi pendapatan tahunan cenderung lebih datar daripada distribusi normal.\n",
    "\n",
    "Secara keseluruhan, nilai skewness dan kurtosis untuk Annual Income menunjukkan bahwa data cenderung memiliki distribusi yang cukup simetris dan lebih datar daripada distribusi normal. Hal ini bisa menggambarkan variasi yang lebih besar dalam pendapatan tahunan pelanggan dibandingkan dengan distribusi normal yang ideal."
   ]
  },
  {
   "cell_type": "markdown",
   "metadata": {},
   "source": [
    "## 5.8-Hypotesis Test (Statistics Inferential)"
   ]
  },
  {
   "cell_type": "markdown",
   "metadata": {},
   "source": [
    "Apakah spanding score profesi Artist sama dengan profesi Health Care (statistics inferential)"
   ]
  },
  {
   "cell_type": "markdown",
   "metadata": {},
   "source": [
    "Sebelum melakukan uji hipotesis atas problem di atas, harus dilakukan pengelompkan data menjadi dalam 2 jenis yaitu Artist Score dan Health Care Score."
   ]
  },
  {
   "cell_type": "code",
   "execution_count": 65,
   "metadata": {},
   "outputs": [],
   "source": [
    "artist_scores = df[df['Profession'] == 'Artist']['Spending Score (1-100)']\n",
    "healthcare_scores = df[df['Profession'] == 'Healthcare']['Spending Score (1-100)']"
   ]
  },
  {
   "cell_type": "markdown",
   "metadata": {},
   "source": [
    "H0 : Tidak ada perbedaan signifikan dalam rata-rata \"Spending Score\" antara profesi Artist dan Healthcare.\n",
    "\n",
    "H1 : Terdapat perbedaan signifikan dalam rata-rata \"Spending Score\" antara profesi Artist dan Healthcare."
   ]
  },
  {
   "cell_type": "code",
   "execution_count": 67,
   "metadata": {},
   "outputs": [
    {
     "name": "stdout",
     "output_type": "stream",
     "text": [
      "T-Statistic: 1.1250182043124066\n",
      "P-value: 0.2608657739864936\n"
     ]
    }
   ],
   "source": [
    "t_stat, p_val = stats.ttest_ind(artist_scores, healthcare_scores)\n",
    "print('T-Statistic:',t_stat)\n",
    "print('P-value:',p_val)"
   ]
  },
  {
   "cell_type": "markdown",
   "metadata": {},
   "source": [
    "Dengan menggunakan tingkat signifikansi alpha sebesar 0.05, maka:\n",
    "\n",
    "    (H0): Tidak ada perbedaan signifikan dalam rata-rata \"Spending Score\" antara profesi Artist dan Healthcare.\n",
    "\n",
    "    (H1): Terdapat perbedaan signifikan dalam rata-rata \"Spending Score\" antara profesi Artist dan Healthcare.\n",
    "\n",
    "    sehingga dapat disimpulkan Tidak ada perbedaan signifikan dalam Spending Score antara profesi Artist dan Healthcare."
   ]
  },
  {
   "cell_type": "markdown",
   "metadata": {},
   "source": [
    "# 6-Conclusion"
   ]
  },
  {
   "cell_type": "markdown",
   "metadata": {},
   "source": [
    "Dari penelitian terhadap data dari customer toko dapat diketahui informasi sebagai berikut:\n",
    "\n",
    "Profesi yang paling banyak menjadi customer adalah Artist/seniman dengan jumlah 612, dan yang paling sedikit adalah homemaker yaitu sekitar 60 orang. dari penelitian ini juga diketahui bawha dari total 1965 pelanggan 59,4% adalah perempuan, jadi customer terbanyak adalah perempuan.\n",
    "\n",
    "Dalam penelitian diketahui bahwa range gaji dengan spanding score tertinggi adalah rentang annual income antara 160000 sampai 180000 dengan rata-rata spanding score sebesar 54.33. untuk profesi yang memiliki spending score terbesar adalah Enterteinment dengan spending score sebesar 52,46.\n",
    "\n",
    "Penelitian juga dilakukan untuk untuk meneliti dan mempelajari karakteristik pelanggan. dan dari hasil penelitian ini diketahui bahwa annual income tidak berpengaruh tehadap spanding score customer, begitu pula dengan family size. dalam penelitian ini juga membandingkan mengenai spending score antara 2 profesi yaitu artist sebagai profesi customer yang terbanyak dan health care sebagai profesi terbanyak ke 2. dan dari hasil penelitian diketahui bahwa Tidak ada perbedaan signifikan dalam Spending Score antara profesi Artist dan Healthcare.\n",
    "\n",
    "tujuan dari penelitian ini untuk meneliti karakteristik customer dengan melihat pola perilaku dengan menganalisa data memeber customer di toko, oleh karena itu dapat disimpulkan bahwa karakteristik customer merupakan hal yang menarik untuk diteliti dan membutuhkan data yang lebih luas lagi untuk melakukan penelitian yang lebih terarah, jai perusahaan bisa menambahkan data survey kepada member agar mendapatkan data yang lebih akurat kedepannya seperti tanggal bergabung, tanggal datang berbelanja, jenis barang yang dibeli. sehingga perilaku customer akan lebih terlihat dengan jelas.\n",
    "\n",
    "untuk saat ini saran yang bisa disarankan kepada toko adalah dikarenakan rata-rata pengunjung adalah orang yang sudah berkeluarga, maka bisa menyediakan sarana sepreti arena bermain anak, sebagai tempat tunggu anak saat orang tua berbelanja, begitu pula dari data di atas terlihat bawha rentangumur bervariasi bahkan rata2 adalah orang di usia menengah seperti 49, oleh karena itu pelayanan harus lebih di tingkatkan dan bantuan untuk orang-orang lanjut usia misalnya."
   ]
  }
 ],
 "metadata": {
  "kernelspec": {
   "display_name": "base",
   "language": "python",
   "name": "python3"
  },
  "language_info": {
   "codemirror_mode": {
    "name": "ipython",
    "version": 3
   },
   "file_extension": ".py",
   "mimetype": "text/x-python",
   "name": "python",
   "nbconvert_exporter": "python",
   "pygments_lexer": "ipython3",
   "version": "0.0.0"
  },
  "orig_nbformat": 4
 },
 "nbformat": 4,
 "nbformat_minor": 2
}
